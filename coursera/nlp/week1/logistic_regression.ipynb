{
 "cells": [
  {
   "cell_type": "markdown",
   "metadata": {},
   "source": [
    "### Week 1 - Logistic regression - Sentiment analysis\n",
    "\n",
    "https://www.coursera.org/learn/classification-vector-spaces-in-nlp/lecture/QYcqq/supervised-ml-sentiment-analysis\n"
   ]
  },
  {
   "cell_type": "code",
   "execution_count": 13,
   "metadata": {},
   "outputs": [
    {
     "name": "stdout",
     "output_type": "stream",
     "text": [
      "13\n",
      "dict_keys(['I', 'am', 'happy', 'because', 'learning', 'NLP', 'hated', 'that', 'movie', 'love', 'working', 'at', 'DL'])\n",
      "posFreq {'I': 4, 'am': 3, 'happy': 2, 'because': 2, 'learning': 2, 'NLP': 2, 'love': 2, 'working': 2, 'at': 2, 'DL': 2}\n",
      "negFreq {'I': 2, 'hated': 2, 'that': 2, 'movie': 2}\n"
     ]
    }
   ],
   "source": [
    "data = [\"I am happy because I am learning NLP\", \"I hated that movie\", \"I love working at DL\"]\n",
    "label = [1,0,1] # pos 1; neg 0\n",
    "\n",
    "vocab_vector = []\n",
    "dict = {}\n",
    "for i, sentence in enumerate(data):\n",
    "  for word in sentence.split():\n",
    "    if word not in dict:\n",
    "      dict[word] = 1\n",
    "    else:\n",
    "      dict[word] += 1\n",
    "\n",
    "vocab_vector = dict.keys()\n",
    "\n",
    "posFreq = {}\n",
    "negFreq = {}\n",
    "for i, sentence in enumerate(data):\n",
    "  for word in sentence.split():\n",
    "    if label[i] == 1:\n",
    "        if word not in posFreq:\n",
    "          posFreq[word] = 1\n",
    "        posFreq[word] += 1\n",
    "    else:\n",
    "      if word not in negFreq:\n",
    "        negFreq[word] = 1\n",
    "      negFreq[word] += 1\n",
    "\n",
    "print(len(vocab_vector))\n",
    "print(vocab_vector)\n",
    "print(\"posFreq\", posFreq)\n",
    "print(\"negFreq\", negFreq)"
   ]
  },
  {
   "cell_type": "code",
   "execution_count": 20,
   "metadata": {},
   "outputs": [
    {
     "name": "stdout",
     "output_type": "stream",
     "text": [
      "15 2\n",
      "true pos\n",
      "4 8\n",
      "true neg\n",
      "12 2\n",
      "true pos\n"
     ]
    }
   ],
   "source": [
    "for i, sentence in enumerate(data):\n",
    "  posWordFreq = 0\n",
    "  negWordFreq = 0\n",
    "  t = {}\n",
    "  for word in sentence.split():\n",
    "    if word in t:\n",
    "      continue\n",
    "    if word in posFreq:\n",
    "      posWordFreq += posFreq[word]\n",
    "    if word in negFreq:\n",
    "      negWordFreq += negFreq[word]\n",
    "    \n",
    "    t[word] = 1\n",
    "  \n",
    "  print(posWordFreq, negWordFreq)\n",
    "\n",
    "  if (posWordFreq > negWordFreq):\n",
    "    if label[i] == 1:\n",
    "      print(\"true pos\")\n",
    "    else: \n",
    "      print(\"false pos\")\n",
    "  else:\n",
    "    if label[i] == 0:\n",
    "      print(\"true neg\")\n",
    "    else: \n",
    "      print(\"false neg\")"
   ]
  },
  {
   "cell_type": "markdown",
   "metadata": {},
   "source": []
  },
  {
   "cell_type": "code",
   "execution_count": null,
   "metadata": {},
   "outputs": [],
   "source": []
  }
 ],
 "metadata": {
  "kernelspec": {
   "display_name": "Python 3",
   "language": "python",
   "name": "python3"
  },
  "language_info": {
   "codemirror_mode": {
    "name": "ipython",
    "version": 3
   },
   "file_extension": ".py",
   "mimetype": "text/x-python",
   "name": "python",
   "nbconvert_exporter": "python",
   "pygments_lexer": "ipython3",
   "version": "3.11.5"
  },
  "orig_nbformat": 4
 },
 "nbformat": 4,
 "nbformat_minor": 2
}
