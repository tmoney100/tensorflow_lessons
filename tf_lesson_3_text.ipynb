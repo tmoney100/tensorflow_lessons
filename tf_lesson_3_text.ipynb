{
 "cells": [
  {
   "cell_type": "markdown",
   "metadata": {},
   "source": [
    "# Basic Text Classification\n",
    "\n",
    "https://www.tensorflow.org/tutorials/keras/text_classification\n"
   ]
  },
  {
   "cell_type": "code",
   "execution_count": 3,
   "metadata": {},
   "outputs": [
    {
     "name": "stderr",
     "output_type": "stream",
     "text": [
      "2023-09-15 10:45:20.278082: I tensorflow/core/platform/cpu_feature_guard.cc:182] This TensorFlow binary is optimized to use available CPU instructions in performance-critical operations.\n",
      "To enable the following instructions: AVX2 AVX512F AVX512_VNNI FMA, in other operations, rebuild TensorFlow with the appropriate compiler flags.\n"
     ]
    }
   ],
   "source": [
    "import matplotlib.pyplot as plt\n",
    "import os\n",
    "import re\n",
    "import shutil\n",
    "import string\n",
    "import tensorflow as tf\n",
    "\n",
    "from tensorflow.keras import layers\n",
    "from tensorflow.keras import losses"
   ]
  },
  {
   "cell_type": "code",
   "execution_count": 4,
   "metadata": {},
   "outputs": [
    {
     "name": "stdout",
     "output_type": "stream",
     "text": [
      "2.13.0\n"
     ]
    }
   ],
   "source": [
    "print(tf.__version__)"
   ]
  },
  {
   "cell_type": "code",
   "execution_count": null,
   "metadata": {},
   "outputs": [],
   "source": []
  },
  {
   "cell_type": "code",
   "execution_count": 5,
   "metadata": {},
   "outputs": [],
   "source": [
    "# 50k reviews; 25k train 25k test\n",
    "url = \"https://ai.stanford.edu/~amaas/data/sentiment/aclImdb_v1.tar.gz\"\n",
    "\n",
    "ds = tf.keras.utils.get_file(\"aclImdb_v1\", url, untar=True, cache_dir=\"./cache\", cache_subdir='')\n",
    "ds_dir = os.path.join(os.path.dirname(ds), 'aclImdb')\n"
   ]
  },
  {
   "cell_type": "code",
   "execution_count": 6,
   "metadata": {},
   "outputs": [
    {
     "name": "stdout",
     "output_type": "stream",
     "text": [
      "['.DS_Store', 'imdbEr.txt', 'test', 'imdb.vocab', 'README', 'train']\n",
      "['urls_unsup.txt', '.DS_Store', 'neg', 'urls_pos.txt', 'unsup', 'urls_neg.txt', 'pos', 'unsupBow.feat', 'labeledBow.feat']\n",
      "Rachel Griffiths writes and directs this award winning short film. A heartwarming story about coping with grief and cherishing the memory of those we've loved and lost. Although, only 15 minutes long, Griffiths manages to capture so much emotion and truth onto film in the short space of time. Bud Tingwell gives a touching performance as Will, a widower struggling to cope with his wife's death. Will is confronted by the harsh reality of loneliness and helplessness as he proceeds to take care of Ruth's pet cow, Tulip. The film displays the grief and responsibility one feels for those they have loved and lost. Good cinematography, great direction, and superbly acted. It will bring tears to all those who have lost a loved one, and survived.\n"
     ]
    }
   ],
   "source": [
    "print(os.listdir(ds_dir))\n",
    "\n",
    "tr_dir = os.path.join(ds_dir, 'train')\n",
    "\n",
    "print(os.listdir(tr_dir))\n",
    "\n",
    "sample_file = os.path.join(tr_dir, 'pos/1181_9.txt')\n",
    "with open(sample_file) as f:\n",
    "  print(f.read())"
   ]
  },
  {
   "cell_type": "code",
   "execution_count": 7,
   "metadata": {},
   "outputs": [],
   "source": [
    "\n",
    "remove_dir = os.path.join(tr_dir, 'unsup')\n",
    "shutil.rmtree(remove_dir)"
   ]
  },
  {
   "cell_type": "code",
   "execution_count": 8,
   "metadata": {},
   "outputs": [
    {
     "name": "stdout",
     "output_type": "stream",
     "text": [
      "Found 25000 files belonging to 2 classes.\n",
      "Using 20000 files for training.\n",
      "\n",
      "Classes:  ['neg', 'pos']\n",
      "\n",
      "Found 25000 files belonging to 2 classes.\n",
      "Using 5000 files for validation.\n",
      "\n",
      "Found 25000 files belonging to 2 classes.\n"
     ]
    }
   ],
   "source": [
    "# tf.data \n",
    "batch_size = 32\n",
    "seed = 42\n",
    "\n",
    "# dataset: train, validate, test\n",
    "raw_train_ds = tf.keras.utils.text_dataset_from_directory(\n",
    "    os.path.join(ds_dir,'train'),\n",
    "    batch_size=batch_size,\n",
    "    validation_split=0.2,\n",
    "    subset=\"training\",\n",
    "    # When using the validation_split and subset arguments, make sure to either specify a random seed, \n",
    "    # or to pass shuffle=False, so that the validation and training splits have no overlap.\n",
    "    seed=seed\n",
    ")\n",
    "print(\"\")\n",
    "print(\"Classes: \", raw_train_ds.class_names)\n",
    "print(\"\")\n",
    "raw_validation_ds = tf.keras.utils.text_dataset_from_directory(\n",
    "    os.path.join(ds_dir,'train'),\n",
    "    batch_size=batch_size,\n",
    "    validation_split=0.2,\n",
    "    subset=\"validation\",\n",
    "    # When using the validation_split and subset arguments, make sure to either specify a random seed, \n",
    "    # or to pass shuffle=False, so that the validation and training splits have no overlap.\n",
    "    seed=seed\n",
    ")\n",
    "print(\"\")\n",
    "raw_test_ds = tf.keras.utils.text_dataset_from_directory(\n",
    "    os.path.join(ds_dir, 'test'),\n",
    "    batch_size=batch_size\n",
    ")"
   ]
  },
  {
   "cell_type": "code",
   "execution_count": 9,
   "metadata": {},
   "outputs": [
    {
     "name": "stdout",
     "output_type": "stream",
     "text": [
      "Label: neg\n",
      "Text: b'\"Pandemonium\" is a horror movie spoof that comes off more stupid than funny. Believe me when I tell you, I love comedies. Especially comedy spoofs. \"Airplane\", \"The Naked Gun\" trilogy, \"Blazing Saddles\", \"High Anxiety\", and \"Spaceballs\" are some of my favorite comedies that spoof a particular genre. \"Pandemonium\" is not up there with those films. Most of the scenes in this movie had me sitting there in stunned silence because the movie wasn\\'t all that funny. There are a few laughs in the film, but when you watch a comedy, you expect to laugh a lot more than a few times and that\\'s all this film has going for it. Geez, \"Scream\" had more laughs than this film and that was more of a horror film. How bizarre is that?<br /><br />*1/2 (out of four)'\n",
      "\n",
      "Label: neg\n",
      "Text: b\"David Mamet is a very interesting and a very un-equal director. His first movie 'House of Games' was the one I liked best, and it set a series of films with characters whose perspective of life changes as they get into complicated situations, and so does the perspective of the viewer.<br /><br />So is 'Homicide' which from the title tries to set the mind of the viewer to the usual crime drama. The principal characters are two cops, one Jewish and one Irish who deal with a racially charged area. The murder of an old Jewish shop owner who proves to be an ancient veteran of the Israeli Independence war triggers the Jewish identity in the mind and heart of the Jewish detective.<br /><br />This is were the flaws of the film are the more obvious. The process of awakening is theatrical and hard to believe, the group of Jewish militants is operatic, and the way the detective eventually walks to the final violent confrontation is pathetic. The end of the film itself is Mamet-like smart, but disappoints from a human emotional perspective.<br /><br />Joe Mantegna and William Macy give strong performances, but the flaws of the story are too evident to be easily compensated.\"\n",
      "\n",
      "Label: pos\n",
      "Text: b'Great documentary about the lives of NY firefighters during the worst terrorist attack of all time.. That reason alone is why this should be a must see collectors item.. What shocked me was not only the attacks, but the\"High Fat Diet\" and physical appearance of some of these firefighters. I think a lot of Doctors would agree with me that,in the physical shape they were in, some of these firefighters would NOT of made it to the 79th floor carrying over 60 lbs of gear. Having said that i now have a greater respect for firefighters and i realize becoming a firefighter is a life altering job. The French have a history of making great documentary\\'s and that is what this is, a Great Documentary.....'\n",
      "\n"
     ]
    }
   ],
   "source": [
    "for text_batch, label_batch in raw_train_ds.take(1):\n",
    "    for i in range(3):\n",
    "        print(f\"Label: {raw_train_ds.class_names[label_batch.numpy()[i]]}\")\n",
    "        print(f\"Text: {text_batch.numpy()[i]}\")\n",
    "        print(\"\")"
   ]
  },
  {
   "cell_type": "code",
   "execution_count": 10,
   "metadata": {},
   "outputs": [],
   "source": [
    "# tf.keras.layers.TextVectorization\n",
    "#   standardize   - preprocess text; remove punctuation, html, etc. to simplify the DS\n",
    "#   tokenize      - splitting strigns into tokens (#split(\" \"))\n",
    "#   vectorize     - converting tokens to numbers so they can be fed into a NN\n",
    "\n",
    "def simple_standardize(input_data):\n",
    "    lowercased = tf.strings.lower(input_data)\n",
    "    stripped_html = tf.strings.regex_replace(lowercased, '<br />', ' ')\n",
    "    punctuation = tf.strings.regex_replace(stripped_html, '[%s]' % re.escape(string.punctuation), '')\n",
    "\n",
    "    return punctuation\n",
    "\n",
    "max_tokens = 10000\n",
    "output_sequence_length = 250\n",
    "\n",
    "vectorize_layer = layers.TextVectorization(\n",
    "    standardize=simple_standardize,\n",
    "    max_tokens=max_tokens,\n",
    "    output_mode=\"int\", # unique integer index for each token (ie. word)\n",
    "    output_sequence_length=output_sequence_length # layer will pad or truncate text to this length\n",
    ")"
   ]
  },
  {
   "cell_type": "code",
   "execution_count": 128,
   "metadata": {},
   "outputs": [],
   "source": [
    "# Make a text-only dataset (no labels), then #adapt to fit the state of the preprocessing layer to the dataset.\n",
    "# this causes the model to build an index of strings to integers\n",
    "train_text = raw_train_ds.map(lambda x, _y: x)\n",
    "vectorize_layer.adapt(train_text)\n",
    "\n",
    "def vectorize_text(text, label):\n",
    "    text = tf.expand_dims(text, -1)\n",
    "    return vectorize_layer(text), label"
   ]
  },
  {
   "cell_type": "code",
   "execution_count": 130,
   "metadata": {},
   "outputs": [
    {
     "name": "stdout",
     "output_type": "stream",
     "text": [
      "Review tf.Tensor(b'\"Emma\" was a product of what might be called by the First Great Jane Austen Cycle of the mid-nineties, and it was recently shown on British television, doubtless because of the interest in the author created by the Second Great Jane Austen Cycle which started with \"Pride and Prejudice\" two years ago. We currently have in the cinemas the Austen biopic \"Becoming Jane\", and ITV have recently produced three TV movies based on Austen novels. These include \"Northanger Abbey\", the only one of the six major novels not to have been filmed previously, so the cycle should now be complete. No doubt, however, there will be more to come in the near future. (There is, after all, her juvenile \"Love and Freindship\" (sic), the short novella \"Lady Susan\", and someone, somewhere, has doubtless supplied endings to her two unfinished fragments \"The Watsons\" and \"Sanditon\". Then there are all those Austen sequels churned out by modern writers\\xc2\\x85\\xc2\\x85\\xc2\\x85).<br /><br />The main character is Emma Woodhouse, a young lady from an aristocratic family in Regency England. (Not, as some reviewers have assumed, Victorian England- Austen died before Queen Victoria was even born). Emma is, financially, considerably better off than most Austen heroines such as Elizabeth Bennett or Fanny Price, and has no need to find herself a wealthy husband. Instead, her main preoccupation seems to be finding husbands for her friends. She persuades her friend Harriet to turn down a proposal of marriage from a young farmer, Robert Martin, believing that Harriet should be setting her sights on the ambitious clergyman Mr Elton. This scheme goes disastrously wrong, however, as Elton has no interest in Harriet, but has fallen in love with Emma herself. The speed with which Emma rejects his proposal makes one wonder just why she was so keen to match her friend with a man she regards (with good reason) as an unsuitable marriage partner for herself. This being a Jane Austen plot, Emma turns out to be less of a committed spinster than she seems, and she too finds herself falling in love, leading to further complications.<br /><br />Emma always insists that she will not marry without affection, and when she does find a partner, the handsome Mr Knightley, we feel that this will indeed be an affectionate marriage. It does not, however, seem likely to be a very passionate one (unlike, say, that of Elizabeth Bennett and Mr Darcy). Knightley, who is sixteen years older than Emma (she is 21, he 37), and related to her by marriage, is more like a father-figure than a lover. Much more of a father-figure, in fact, than her actual father, a querulous and selfish old hypochondriac who seems more like her grandfather. When Emma is rude to her unbearably garrulous and tedious friend Miss Bates, it is Knightley who chides her for her lack of manners. (His surname is probably meant to indicate his gentlemanly nature- nineteenth-century gentlemen liked to think of themselves as the modern equivalent of mediaeval knights with their elaborate codes of chivalry). Both Gwyneth Paltrow and Jeremy Northam play their parts very well, but this is not really one of the great screen romances.<br /><br />Of the other characters, I liked Juliet Stephenson\\'s vulgar Mrs Elton and Toni Collette\\'s Harriet. I know that in the novel Harriet was a na\\xc3\\xafve young teenager, whereas here she is more like the character Collette played in \"Muriel\\'s Wedding\"- a gauche, slightly overweight twentysomething, fretting about her chances of finding a man. Nevertheless, I felt that this characterisation worked well in the context of the film and did not detract from Austen\\'s themes.<br /><br />\"Emma\" is one of Austen\\'s more light-hearted works, without the darker overtones of \"Mansfield Park\" or even \"Pride and Prejudice\", and this is reflected on screen. We see a world of beauty and grace, full of stately homes and elegant costumes and fine manners. Apart from the ruffianly gypsies, who make a very brief appearance, the only \"poor\" people we see are Mrs Bates and her daughter, and, as they live in the sort of picturesque rose-strewn thatched cottage which today would change hands for over \\xc2\\xa3500,000, we can be sure that their poverty is relative, not absolute. In Emma\\'s world, poverty is defined as not having your own stately home. This is, of course, not a comprehensive picture of early nineteenth-century life, but nobody has ever claimed Austen as the Regency equivalent of a kitchen-sink realist. Sophisticated romantic comedy, combined with a keen eye for analysing human character, was more in her line.<br /><br />I would not rate this film quite as highly as the 1994 \"Sense and Sensibility\" or the recent \"Pride and Prejudice\"- it tends to drag a bit in the middle, although it has a strong beginning and strong ending- but it is, in the main, a highly enjoyable Austen adaptation. 7/10', shape=(), dtype=string)\n",
      "RR tf.Tensor(\n",
      "[[2528   13    4 2218    5   48  227   26  488   32    2   83   86 1007\n",
      "  6768 6996    5    2    1    3    9   13  986  581   20  681  708    1\n",
      "    84    5    2  598    8    2 2174 1033   32    2  333   86 1007 6768\n",
      "  6996   60  606   16 3114    3 5437  104  149  589   71 3780   25    8\n",
      "     2 4959    2 6768 6887 1587 1007    3    1   25  986 1118  297  243\n",
      "    91  443   20 6768 2630  129 1429    1    1    2   61   28    5    2\n",
      "  1539  653 2630   21    6   25   74  814 2353   37    2 6996  139  148\n",
      "    26  555   57  803  189   47   76   26   50    6  203    8    2  781\n",
      "   701   47    7  101   30   39 3697  115    3    1    1    2  350    1\n",
      "   729 2744    3  282 1116   43    1    1 4055    6   39  104    1    1\n",
      "     2    1    3    1   92   47   23   30  143 6768 2141    1   44   32\n",
      "   709    1    2  275  106    7 2528    1    4  181  729   35   33    1\n",
      "   215    8    1 1777   21   14   46 1870   25 5293 7152 1777 6768 1071\n",
      "   153 1573 2375   13   53 1461 2528    7    1 5765  122  127   70   88\n",
      "  6768 8660  135   14 2722 7422   41    1 1841    3   43   57  349    6\n",
      "   163  733    4 3109  672  291   39  275    1  180    6   26 1578 2978\n",
      "    15   39  335   55    1   39  469 5926    6  459  185    4    1    5\n",
      "  1357   35    4  181 6023  639 1558 3206   12 5926  139   26]], shape=(1, 250), dtype=int64)\n",
      "Label pos\n",
      "4 --->  a\n",
      "1287 --->  silent\n",
      " 313 --->  night\n",
      "Vocabulary size: 10000\n",
      "Vectorized review (<tf.Tensor: shape=(1, 250), dtype=int64, numpy=\n",
      "array([[2528,   13,    4, 2218,    5,   48,  227,   26,  488,   32,    2,\n",
      "          83,   86, 1007, 6768, 6996,    5,    2,    1,    3,    9,   13,\n",
      "         986,  581,   20,  681,  708,    1,   84,    5,    2,  598,    8,\n",
      "           2, 2174, 1033,   32,    2,  333,   86, 1007, 6768, 6996,   60,\n",
      "         606,   16, 3114,    3, 5437,  104,  149,  589,   71, 3780,   25,\n",
      "           8,    2, 4959,    2, 6768, 6887, 1587, 1007,    3,    1,   25,\n",
      "         986, 1118,  297,  243,   91,  443,   20, 6768, 2630,  129, 1429,\n",
      "           1,    1,    2,   61,   28,    5,    2, 1539,  653, 2630,   21,\n",
      "           6,   25,   74,  814, 2353,   37,    2, 6996,  139,  148,   26,\n",
      "         555,   57,  803,  189,   47,   76,   26,   50,    6,  203,    8,\n",
      "           2,  781,  701,   47,    7,  101,   30,   39, 3697,  115,    3,\n",
      "           1,    1,    2,  350,    1,  729, 2744,    3,  282, 1116,   43,\n",
      "           1,    1, 4055,    6,   39,  104,    1,    1,    2,    1,    3,\n",
      "           1,   92,   47,   23,   30,  143, 6768, 2141,    1,   44,   32,\n",
      "         709,    1,    2,  275,  106,    7, 2528,    1,    4,  181,  729,\n",
      "          35,   33,    1,  215,    8,    1, 1777,   21,   14,   46, 1870,\n",
      "          25, 5293, 7152, 1777, 6768, 1071,  153, 1573, 2375,   13,   53,\n",
      "        1461, 2528,    7,    1, 5765,  122,  127,   70,   88, 6768, 8660,\n",
      "         135,   14, 2722, 7422,   41,    1, 1841,    3,   43,   57,  349,\n",
      "           6,  163,  733,    4, 3109,  672,  291,   39,  275,    1,  180,\n",
      "           6,   26, 1578, 2978,   15,   39,  335,   55,    1,   39,  469,\n",
      "        5926,    6,  459,  185,    4,    1,    5, 1357,   35,    4,  181,\n",
      "        6023,  639, 1558, 3206,   12, 5926,  139,   26]])>, <tf.Tensor: shape=(), dtype=int32, numpy=1>)\n"
     ]
    }
   ],
   "source": [
    "text_batch, label_batch = next(iter(raw_train_ds))\n",
    "first_review, first_label = text_batch[0], label_batch[0]\n",
    "\n",
    "print(\"Review\", first_review)\n",
    "print(\"RR\",  vectorize_layer(tf.expand_dims(first_review, -1)))\n",
    "print(\"Label\", raw_train_ds.class_names[first_label])\n",
    "vt = vectorize_text(first_review, first_label)\n",
    "# print(\"vectorized sentence\", \" \".join([str(x) for x in vt[0].numpy()]))\n",
    "print(\"4 ---> \",vectorize_layer.get_vocabulary()[4])\n",
    "print(\"1287 ---> \",vectorize_layer.get_vocabulary()[1287])\n",
    "print(\" 313 ---> \",vectorize_layer.get_vocabulary()[313])\n",
    "print('Vocabulary size: {}'.format(len(vectorize_layer.get_vocabulary())))\n",
    "print(\"Vectorized review\", vt)"
   ]
  },
  {
   "cell_type": "code",
   "execution_count": 13,
   "metadata": {},
   "outputs": [],
   "source": [
    "train_ds = raw_train_ds.map(vectorize_text)\n",
    "val_ds = raw_validation_ds.map(vectorize_text)\n",
    "test_ds = raw_test_ds.map(vectorize_text)\n",
    "\n",
    "train_ds = train_ds.cache().prefetch(buffer_size=tf.data.AUTOTUNE)\n",
    "val_ds = val_ds.cache().prefetch(buffer_size=tf.data.AUTOTUNE)\n",
    "test_ds = test_ds.cache().prefetch(buffer_size=tf.data.AUTOTUNE)"
   ]
  },
  {
   "cell_type": "markdown",
   "metadata": {},
   "source": [
    "# NN model\n"
   ]
  },
  {
   "cell_type": "code",
   "execution_count": 48,
   "metadata": {},
   "outputs": [
    {
     "name": "stdout",
     "output_type": "stream",
     "text": [
      "Model: \"sequential_4\"\n",
      "_________________________________________________________________\n",
      " Layer (type)                Output Shape              Param #   \n"
     ]
    },
    {
     "name": "stdout",
     "output_type": "stream",
     "text": [
      "=================================================================\n",
      " embedding_4 (Embedding)     (None, None, 16)          160016    \n",
      "                                                                 \n",
      " dropout_8 (Dropout)         (None, None, 16)          0         \n",
      "                                                                 \n",
      " global_average_pooling1d_4  (None, 16)                0         \n",
      "  (GlobalAveragePooling1D)                                       \n",
      "                                                                 \n",
      " dropout_9 (Dropout)         (None, 16)                0         \n",
      "                                                                 \n",
      " dense_4 (Dense)             (None, 1)                 17        \n",
      "                                                                 \n",
      "=================================================================\n",
      "Total params: 160033 (625.13 KB)\n",
      "Trainable params: 160033 (625.13 KB)\n",
      "Non-trainable params: 0 (0.00 Byte)\n",
      "_________________________________________________________________\n"
     ]
    }
   ],
   "source": [
    "# he Embedding layer can be understood as a lookup table that maps from integer indices (which stand for specific words) to dense vectors (their embeddings).\n",
    "# The dimensionality (or width) of the embedding is a parameter you can experiment with to see what works well for your problem, much in the same way you would \n",
    "# experiment with the number of neurons in a Dense layer.\n",
    "emedding_dim = 16\n",
    "\n",
    "model = tf.keras.Sequential([\n",
    "    layers.Embedding(max_tokens + 1, emedding_dim),\n",
    "    # why did they add 1??\n",
    "    layers.Dropout(0.2),\n",
    "    layers.GlobalAveragePooling1D(),\n",
    "    # returns a fixed-length output vector for each example by averaging over the sequence dimension.\n",
    "    # This allows the model to handle input of variable length, in the simplest way possible.\n",
    "    layers.Dropout(0.2),\n",
    "    layers.Dense(1)\n",
    "]) # output array (batch, sequence, embedding)\n",
    "model.summary()\n"
   ]
  },
  {
   "cell_type": "code",
   "execution_count": 52,
   "metadata": {},
   "outputs": [
    {
     "name": "stdout",
     "output_type": "stream",
     "text": [
      "Epoch 1/10\n",
      "625/625 [==============================] - 6s 8ms/step - loss: 0.2182 - binary_accuracy: 0.9212 - val_loss: 0.2887 - val_binary_accuracy: 0.8808\n",
      "Epoch 2/10\n",
      "625/625 [==============================] - 5s 7ms/step - loss: 0.2057 - binary_accuracy: 0.9262 - val_loss: 0.2872 - val_binary_accuracy: 0.8814\n",
      "Epoch 3/10\n",
      "625/625 [==============================] - 6s 10ms/step - loss: 0.1970 - binary_accuracy: 0.9299 - val_loss: 0.2866 - val_binary_accuracy: 0.8814\n",
      "Epoch 4/10\n",
      "625/625 [==============================] - 4s 7ms/step - loss: 0.1866 - binary_accuracy: 0.9334 - val_loss: 0.2869 - val_binary_accuracy: 0.8822\n",
      "Epoch 5/10\n",
      "625/625 [==============================] - 4s 7ms/step - loss: 0.1775 - binary_accuracy: 0.9379 - val_loss: 0.2876 - val_binary_accuracy: 0.8844\n",
      "Epoch 6/10\n",
      "625/625 [==============================] - 4s 6ms/step - loss: 0.1702 - binary_accuracy: 0.9403 - val_loss: 0.2894 - val_binary_accuracy: 0.8846\n",
      "Epoch 7/10\n",
      "625/625 [==============================] - 4s 7ms/step - loss: 0.1621 - binary_accuracy: 0.9451 - val_loss: 0.2913 - val_binary_accuracy: 0.8846\n",
      "Epoch 8/10\n",
      "625/625 [==============================] - 4s 7ms/step - loss: 0.1551 - binary_accuracy: 0.9468 - val_loss: 0.2945 - val_binary_accuracy: 0.8824\n",
      "Epoch 9/10\n",
      "625/625 [==============================] - 4s 6ms/step - loss: 0.1494 - binary_accuracy: 0.9502 - val_loss: 0.2967 - val_binary_accuracy: 0.8822\n",
      "Epoch 10/10\n",
      "625/625 [==============================] - 4s 7ms/step - loss: 0.1423 - binary_accuracy: 0.9528 - val_loss: 0.3000 - val_binary_accuracy: 0.8826\n"
     ]
    }
   ],
   "source": [
    "model.compile(\n",
    "    loss=losses.BinaryCrossentropy(from_logits=True),\n",
    "    optimizer='adam', #\n",
    "    metrics=tf.metrics.BinaryAccuracy(threshold=0.0)\n",
    ")\n",
    "\n",
    "callbacks = [\n",
    "  tf.keras.callbacks.EarlyStopping(monitor=\"loss\", patience=2, verbose=1, min_delta=0.01, mode=\"min\"),\n",
    "]\n",
    "\n",
    "epochs = 10\n",
    "fit_history = model.fit(train_ds, validation_data=val_ds, epochs=epochs, callbacks=callbacks)\n"
   ]
  },
  {
   "cell_type": "code",
   "execution_count": 51,
   "metadata": {},
   "outputs": [
    {
     "name": "stdout",
     "output_type": "stream",
     "text": [
      "  1/782 [..............................] - ETA: 5s - loss: 0.1863 - binary_accuracy: 0.9688"
     ]
    },
    {
     "name": "stdout",
     "output_type": "stream",
     "text": [
      "782/782 [==============================] - 1s 1ms/step - loss: 0.3105 - binary_accuracy: 0.8730\n"
     ]
    }
   ],
   "source": [
    "loss, accuracy = model.evaluate(test_ds)\n"
   ]
  },
  {
   "cell_type": "code",
   "execution_count": 50,
   "metadata": {},
   "outputs": [
    {
     "name": "stdout",
     "output_type": "stream",
     "text": [
      "dict_keys(['loss', 'binary_accuracy', 'val_loss', 'val_binary_accuracy'])\n"
     ]
    },
    {
     "data": {
      "image/png": "[encoded data removed]",
      "text/plain": [
       "<Figure size 640x480 with 1 Axes>"
      ]
     },
     "metadata": {},
     "output_type": "display_data"
    },
    {
     "data": {
      "image/png": "[encoded data removed]",
      "text/plain": [
       "<Figure size 640x480 with 1 Axes>"
      ]
     },
     "metadata": {},
     "output_type": "display_data"
    }
   ],
   "source": [
    "h_dict = fit_history.history\n",
    "print(h_dict.keys())\n",
    "\n",
    "acc = h_dict['binary_accuracy']\n",
    "\n",
    "epochs = range(1, len(acc) + 1)\n",
    "\n",
    "# \"bo\" is for \"blue dot\"\n",
    "plt.plot(epochs, h_dict['loss'], 'b', label='Training loss')\n",
    "# b is for \"solid blue line\", r is for \"solid red line\"\n",
    "plt.plot(epochs, h_dict['val_loss'], 'r', label='Validation loss')\n",
    "plt.title('Training and validation loss')\n",
    "plt.xlabel('Epochs')\n",
    "plt.ylabel('Loss')\n",
    "plt.legend()\n",
    "\n",
    "plt.show()\n",
    "\n",
    "\n",
    "plt.plot(epochs, acc, 'b', label='Training acc')\n",
    "plt.plot(epochs, h_dict['val_binary_accuracy'], 'r', label='Validation acc')\n",
    "plt.title('Training and validation accuracy')\n",
    "plt.xlabel('Epochs')\n",
    "plt.ylabel('Accuracy')\n",
    "plt.legend(loc='lower right')\n",
    "\n",
    "plt.show()\n"
   ]
  },
  {
   "cell_type": "code",
   "execution_count": 53,
   "metadata": {},
   "outputs": [
    {
     "name": "stdout",
     "output_type": "stream",
     "text": [
      "  1/782 [..............................] - ETA: 3:01 - loss: 0.1481 - accuracy: 0.9375"
     ]
    },
    {
     "name": "stderr",
     "output_type": "stream",
     "text": [
      "/usr/local/lib/python3.11/site-packages/keras/src/backend.py:5805: UserWarning: \"`binary_crossentropy` received `from_logits=True`, but the `output` argument was produced by a Sigmoid activation and thus does not represent logits. Was this intended?\n",
      "  output, from_logits = _get_logits(\n"
     ]
    },
    {
     "name": "stdout",
     "output_type": "stream",
     "text": [
      "782/782 [==============================] - 4s 4ms/step - loss: 0.3345 - accuracy: 0.8682\n",
      "0.334505558013916 0.8682000041007996\n"
     ]
    }
   ],
   "source": [
    "export_model = tf.keras.Sequential([\n",
    "    vectorize_layer,\n",
    "    model,\n",
    "    layers.Activation('sigmoid')\n",
    "])\n",
    "export_model.compile(\n",
    "    loss=losses.BinaryCrossentropy(from_logits=True),\n",
    "    optimizer=\"adam\",\n",
    "    metrics=['accuracy']\n",
    ")\n",
    "loss, accuracy = export_model.evaluate(raw_test_ds)\n",
    "print(loss, accuracy)"
   ]
  },
  {
   "cell_type": "code",
   "execution_count": 59,
   "metadata": {},
   "outputs": [
    {
     "name": "stdout",
     "output_type": "stream",
     "text": [
      "1/1 [==============================] - 0s 59ms/step\n"
     ]
    },
    {
     "data": {
      "text/plain": [
       "array([[0.09608951],\n",
       "       [0.6431425 ],\n",
       "       [0.5011153 ],\n",
       "       [0.5072838 ],\n",
       "       [0.6187622 ],\n",
       "       [0.49765447]], dtype=float32)"
      ]
     },
     "execution_count": 59,
     "metadata": {},
     "output_type": "execute_result"
    }
   ],
   "source": [
    "export_model.predict(['This movie was terrible. The acting was like a bunch of kids who have never had any training before. puke blah!',\n",
    "                      'This was great',\n",
    "                      'this was shit',\n",
    "                      'this was the shit',\n",
    "                      'this was damn good shit',\n",
    "                      'this was fucking shit'])"
   ]
  },
  {
   "cell_type": "code",
   "execution_count": 106,
   "metadata": {},
   "outputs": [
    {
     "name": "stdout",
     "output_type": "stream",
     "text": [
      "WARNING:tensorflow:Compiled the loaded model, but the compiled metrics have yet to be built. `model.compile_metrics` will be empty until you train or evaluate the model.\n"
     ]
    },
    {
     "name": "stderr",
     "output_type": "stream",
     "text": [
      "WARNING:tensorflow:Compiled the loaded model, but the compiled metrics have yet to be built. `model.compile_metrics` will be empty until you train or evaluate the model.\n"
     ]
    },
    {
     "name": "stdout",
     "output_type": "stream",
     "text": [
      "INFO:tensorflow:Assets written to: ./lesson_3_model/assets\n"
     ]
    },
    {
     "name": "stderr",
     "output_type": "stream",
     "text": [
      "INFO:tensorflow:Assets written to: ./lesson_3_model/assets\n"
     ]
    }
   ],
   "source": [
    "# export the model\n",
    "\n",
    "model.save('./lesson_3_model')\n",
    "# model.save_weights('./lesson_3_weights')\n",
    "# mode.load_weights('./lesson_3_weights')\n"
   ]
  },
  {
   "cell_type": "code",
   "execution_count": null,
   "metadata": {},
   "outputs": [],
   "source": [
    "import json\n",
    "json_config = model.to_json()\n",
    "# model = tf.keras.models.model_from_json(json_config)\n",
    "js = json.loads(json_config)\n",
    "\n",
    "def pd(d, i=0):\n",
    "  for key in d.keys():\n",
    "    print(key)\n",
    "    print('-' * (2+i), d[key])\n",
    "    if isinstance(d[key], dict):\n",
    "      pd(d[key], i+1)\n",
    "    if isinstance(d[key], list):\n",
    "      print(d[key][0].keys())\n",
    "      for val in d[key]:\n",
    "        print(val)\n",
    "\n",
    "pd(js)"
   ]
  },
  {
   "cell_type": "code",
   "execution_count": 107,
   "metadata": {},
   "outputs": [
    {
     "name": "stdout",
     "output_type": "stream",
     "text": [
      "WARNING:tensorflow:No training configuration found in save file, so the model was *not* compiled. Compile it manually.\n"
     ]
    },
    {
     "name": "stderr",
     "output_type": "stream",
     "text": [
      "WARNING:tensorflow:No training configuration found in save file, so the model was *not* compiled. Compile it manually.\n"
     ]
    }
   ],
   "source": [
    "loaded_model = tf.keras.models.load_model('./lesson_3_model') "
   ]
  },
  {
   "cell_type": "code",
   "execution_count": 113,
   "metadata": {},
   "outputs": [],
   "source": [
    "export_model = tf.keras.Sequential([\n",
    "    vectorize_layer,\n",
    "    loaded_model,\n",
    "    layers.Activation('sigmoid')\n",
    "])\n",
    "export_model.compile(\n",
    "    loss=losses.BinaryCrossentropy(from_logits=True),\n",
    "    optimizer=\"adam\",\n",
    "    metrics=['accuracy']\n",
    ")"
   ]
  },
  {
   "cell_type": "code",
   "execution_count": 135,
   "metadata": {},
   "outputs": [
    {
     "name": "stdout",
     "output_type": "stream",
     "text": [
      "1/1 [==============================] - 0s 60ms/step\n"
     ]
    },
    {
     "data": {
      "text/plain": [
       "0.4810632"
      ]
     },
     "execution_count": 135,
     "metadata": {},
     "output_type": "execute_result"
    }
   ],
   "source": [
    "# loss, accuracy = export_model.evaluate(raw_test_ds)\n",
    "\n",
    "\n",
    "\n",
    "def vectorize_text_simple(txt):\n",
    "    txt = tf.expand_dims(txt, -1)\n",
    "    return vectorize_layer.adapt(txt)\n",
    "\n",
    "# txt = vectorize_text_simple('this is the best movie ever')\n",
    "# print(txt)\n",
    "# txt.get_vocabulary()\n",
    "# loaded_model.predict([vectorize_text_simple('this is the best movie ever')])\n",
    "export_model.predict(['this is the best movie ever'])[0][0]\n"
   ]
  },
  {
   "cell_type": "code",
   "execution_count": null,
   "metadata": {},
   "outputs": [],
   "source": []
  }
 ],
 "metadata": {
  "kernelspec": {
   "display_name": "Python 3",
   "language": "python",
   "name": "python3"
  },
  "language_info": {
   "codemirror_mode": {
    "name": "ipython",
    "version": 3
   },
   "file_extension": ".py",
   "mimetype": "text/x-python",
   "name": "python",
   "nbconvert_exporter": "python",
   "pygments_lexer": "ipython3",
   "version": "3.11.5"
  },
  "orig_nbformat": 4
 },
 "nbformat": 4,
 "nbformat_minor": 2
}
