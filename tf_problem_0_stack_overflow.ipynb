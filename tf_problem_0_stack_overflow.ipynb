{
 "cells": [
  {
   "cell_type": "code",
   "execution_count": null,
   "metadata": {},
   "outputs": [],
   "source": [
    "#Multi-Classification on Stack Overflow questions\n",
    "\n",
    "https://www.tensorflow.org/tutorials/keras/text_classification#exercise_multi-class_classification_on_stack_overflow_questions"
   ]
  },
  {
   "cell_type": "markdown",
   "metadata": {},
   "source": []
  },
  {
   "cell_type": "code",
   "execution_count": 168,
   "metadata": {},
   "outputs": [],
   "source": [
    "import tensorflow as tf\n",
    "import matplotlib.pyplot as plt\n",
    "import os\n",
    "import re\n",
    "import numpy as np\n",
    "# import shutil\n",
    "import string\n",
    "import tarfile\n"
   ]
  },
  {
   "cell_type": "markdown",
   "metadata": {},
   "source": [
    "## Import Data\n"
   ]
  },
  {
   "cell_type": "code",
   "execution_count": 12,
   "metadata": {},
   "outputs": [],
   "source": [
    "so_data_url = './data/stack_overflow_16k.tar.gz'\n",
    "test_dir = './data/test'\n",
    "\n",
    "if os.path.exists(test_dir) and os.path.isdir(test_dir):\n",
    "  print('tar extracted')\n",
    "elif os.path.exists(so_data_url):\n",
    "  with tarfile.open(so_data_url, 'r:gz') as tar:\n",
    "    tar.extractall(path='./data/')"
   ]
  },
  {
   "cell_type": "code",
   "execution_count": 17,
   "metadata": {},
   "outputs": [
    {
     "name": "stdout",
     "output_type": "stream",
     "text": [
      "./data/stack_overflow\n",
      "\"idiomatic blank iterating and adding to a dict i'm running through a string, creating all substrings of size 10, and adding them to a dict. this is my code,..sequence_map = {}.for i in range(len(s)):.    sub = s[i:i+10].    if sub in sequence_map:.       sequence_map[sub] += 1.    else:.       sequence_map[sub] = 1...is there a way to do this more blankically?..also how do i do the reverse blankically, as in interating through the dict and composing a list where value is equal to something?..[k for k, v in sequence_map.items()]\"\n",
      "\n"
     ]
    }
   ],
   "source": [
    "url = \"./data/test/\"\n",
    "ds_dir = os.path.join(\"./data\", \"stack_overflow\")\n",
    "print(ds_dir)\n",
    "\n",
    "sample_file = os.path.join(ds_dir, \"test/python/10.txt\")\n",
    "with open(sample_file, \"r\") as f:\n",
    "  print(f.read())\n"
   ]
  },
  {
   "cell_type": "code",
   "execution_count": 212,
   "metadata": {},
   "outputs": [],
   "source": [
    "def simple_standardize(input_data):\n",
    "    lowercased = tf.strings.lower(input_data)\n",
    "    stripped_html = tf.strings.regex_replace(lowercased, '<br />', ' ')\n",
    "    punctuation = tf.strings.regex_replace(stripped_html, '[%s]' % re.escape(string.punctuation), '')\n",
    "\n",
    "    return punctuation\n",
    "\n",
    "# see .get_vocabulary() below\n",
    "max_tokens = 10000\n",
    "vectorize_layer = tf.keras.layers.TextVectorization(\n",
    "  standardize=simple_standardize,\n",
    "  # standardize='lower_and_strip_punctuation',\n",
    "  max_tokens=max_tokens,\n",
    "  output_mode=\"int\", #unique int index for each token \n",
    "  output_sequence_length=150\n",
    ")\n",
    "\n",
    "def vectorize_text(text, label):\n",
    "    text = tf.expand_dims(text, -1)\n",
    "    return vectorize_layer(text), label"
   ]
  },
  {
   "cell_type": "code",
   "execution_count": 213,
   "metadata": {},
   "outputs": [
    {
     "name": "stdout",
     "output_type": "stream",
     "text": [
      "Found 8000 files belonging to 4 classes.\n",
      "Using 6400 files for training.\n",
      "Found 8000 files belonging to 4 classes.\n",
      "Using 1600 files for validation.\n",
      "Found 8000 files belonging to 4 classes.\n",
      "max_tokens train_set: 10000\n",
      "classes: ['csharp', 'java', 'javascript', 'python']\n"
     ]
    }
   ],
   "source": [
    "batch_size = 32\n",
    "seed = 42\n",
    "\n",
    "raw_train_ds = tf.keras.utils.text_dataset_from_directory(\n",
    "  os.path.join(ds_dir, \"train\"),\n",
    "  batch_size=batch_size,\n",
    "  validation_split=0.2,\n",
    "  subset='training',\n",
    "  seed=seed\n",
    ")\n",
    "raw_validation_ds = tf.keras.utils.text_dataset_from_directory(\n",
    "  os.path.join(ds_dir, \"train\"),\n",
    "  batch_size=batch_size,\n",
    "  validation_split=0.2,\n",
    "  subset='validation',\n",
    "  seed=seed\n",
    ")\n",
    "raw_test_ds = tf.keras.utils.text_dataset_from_directory(\n",
    "  os.path.join(ds_dir, \"test\"),\n",
    "  batch_size=batch_size\n",
    ")\n",
    "\n",
    "train_text = raw_train_ds.map(lambda x, _y: x)\n",
    "#adapt: Computes a vocabulary of string terms from tokens in a dataset.\n",
    "# else you'll get an error: \n",
    "# FailedPreconditionError: Graph execution error:\n",
    "#     Table not initialized.\n",
    "vectorize_layer.adapt(train_text)\n",
    "# max_tokens train_set: 99853\n",
    "print(\"max_tokens train_set:\", len(vectorize_layer.get_vocabulary()))\n",
    "classes = raw_train_ds.class_names\n",
    "print(\"classes:\", classes)"
   ]
  },
  {
   "cell_type": "code",
   "execution_count": 118,
   "metadata": {},
   "outputs": [
    {
     "name": "stdout",
     "output_type": "stream",
     "text": [
      "<class 'tensorflow.python.data.ops.batch_op._BatchDataset'>\n"
     ]
    }
   ],
   "source": [
    "print(type(raw_train_ds))\n",
    "train_ds = raw_train_ds.map(vectorize_text)\n",
    "validation_ds = raw_validation_ds.map(vectorize_text)\n",
    "test_ds = raw_test_ds.map(vectorize_text)\n",
    "\n",
    "# AUTOTUNE - uses system to determine the buffer size\n",
    "train_ds = train_ds.cache().prefetch(buffer_size=tf.data.AUTOTUNE)\n",
    "validation_ds = validation_ds.cache().prefetch(buffer_size=tf.data.AUTOTUNE)\n",
    "test_ds = test_ds.cache().prefetch(buffer_size=tf.data.AUTOTUNE)"
   ]
  },
  {
   "cell_type": "code",
   "execution_count": 221,
   "metadata": {},
   "outputs": [
    {
     "name": "stdout",
     "output_type": "stream",
     "text": [
      "Model: \"sequential_embedding_001\"\n",
      "____________________________________________________________________________\n",
      " Layer (type)                Output Shape              Param #   Trainable  \n",
      "============================================================================\n",
      " embedding_30 (Embedding)    (None, None, 16)          160016    Y          \n",
      "                                                                            \n",
      " dropout_59 (Dropout)        (None, None, 16)          0         Y          \n",
      "                                                                            \n",
      " global_average_pooling1d_3  (None, 16)                0         Y          \n",
      " 0 (GlobalAveragePooling1D)                                                 \n",
      "                                                                            \n",
      " dropout_60 (Dropout)        (None, 16)                0         Y          \n",
      "                                                                            \n",
      " dense_28 (Dense)            (None, 4)                 68        Y          \n",
      "                                                                            \n",
      "============================================================================\n",
      "Total params: 160084 (625.33 KB)\n",
      "Trainable params: 160084 (625.33 KB)\n",
      "Non-trainable params: 0 (0.00 Byte)\n",
      "____________________________________________________________________________\n"
     ]
    }
   ],
   "source": [
    "embedding_dim = 16\n",
    "model = tf.keras.Sequential(\n",
    "  name='sequential_embedding_001',\n",
    "  layers=[\n",
    "  tf.keras.layers.Embedding(max_tokens + 1, embedding_dim),\n",
    "  tf.keras.layers.Dropout(0.2),\n",
    "  tf.keras.layers.GlobalAveragePooling1D(),\n",
    "  # GlobalAveragePooling1D - returns fixed length output vector\n",
    "  tf.keras.layers.Dropout(0.2),\n",
    "  tf.keras.layers.Dense(4)\n",
    "])\n",
    "model.summary(show_trainable=True)\n",
    "\n",
    "model.compile(\n",
    "  loss=tf.keras.losses.SparseCategoricalCrossentropy(from_logits=True),\n",
    "  # loss=tf.keras.losses.CategoricalCrossentropy(from_logits=True),\n",
    "  # loss=tf.keras.losses.BinaryCrossentropy(from_logits=True),\n",
    "  # \n",
    "  optimizer='adam',\n",
    "  # Adaptive Moment Estimation - stochastic optimization\n",
    "  # fn that updates each param individually. provides exp\n",
    "  # decaying average of past gradients (momentum)\n",
    "  # and squared gradients (RMSProp)\n",
    "  # metrics=tf.metrics.SparseCategoricalAccuracy()\n",
    "  metrics=['accuracy']\n",
    ")\n",
    "\n",
    "# callbacks = [\n",
    "#   tf.keras.callbacks.EarlyStopping(\n",
    "#     monitor=\"loss\",\n",
    "#     patience=2,\n",
    "#     verbose=1,\n",
    "#     min_delta=0.01,\n",
    "#     mode=\"min\",\n",
    "#   )\n",
    "# ]"
   ]
  },
  {
   "cell_type": "code",
   "execution_count": 230,
   "metadata": {},
   "outputs": [
    {
     "name": "stdout",
     "output_type": "stream",
     "text": [
      "Epoch 1/16\n",
      "200/200 [==============================] - 1s 6ms/step - loss: 0.3105 - accuracy: 0.9197 - val_loss: 0.5333 - val_accuracy: 0.8000\n",
      "Epoch 2/16\n",
      "200/200 [==============================] - 1s 4ms/step - loss: 0.2960 - accuracy: 0.9262 - val_loss: 0.5309 - val_accuracy: 0.7975\n",
      "Epoch 3/16\n",
      "200/200 [==============================] - 1s 3ms/step - loss: 0.2853 - accuracy: 0.9273 - val_loss: 0.5288 - val_accuracy: 0.7987\n",
      "Epoch 4/16\n",
      "200/200 [==============================] - 1s 4ms/step - loss: 0.2723 - accuracy: 0.9381 - val_loss: 0.5271 - val_accuracy: 0.8000\n",
      "Epoch 5/16\n",
      "200/200 [==============================] - 1s 4ms/step - loss: 0.2608 - accuracy: 0.9377 - val_loss: 0.5257 - val_accuracy: 0.7994\n",
      "Epoch 6/16\n",
      "200/200 [==============================] - 1s 4ms/step - loss: 0.2504 - accuracy: 0.9384 - val_loss: 0.5250 - val_accuracy: 0.7994\n",
      "Epoch 7/16\n",
      "200/200 [==============================] - 1s 3ms/step - loss: 0.2406 - accuracy: 0.9456 - val_loss: 0.5248 - val_accuracy: 0.8006\n",
      "Epoch 8/16\n",
      "200/200 [==============================] - 1s 4ms/step - loss: 0.2290 - accuracy: 0.9467 - val_loss: 0.5254 - val_accuracy: 0.8019\n",
      "Epoch 9/16\n",
      "200/200 [==============================] - 1s 3ms/step - loss: 0.2226 - accuracy: 0.9488 - val_loss: 0.5261 - val_accuracy: 0.8025\n",
      "Epoch 10/16\n",
      "200/200 [==============================] - 1s 3ms/step - loss: 0.2119 - accuracy: 0.9509 - val_loss: 0.5271 - val_accuracy: 0.8000\n",
      "Epoch 11/16\n",
      "200/200 [==============================] - 1s 3ms/step - loss: 0.2023 - accuracy: 0.9548 - val_loss: 0.5288 - val_accuracy: 0.7994\n",
      "Epoch 12/16\n",
      "200/200 [==============================] - 1s 3ms/step - loss: 0.1938 - accuracy: 0.9561 - val_loss: 0.5304 - val_accuracy: 0.7987\n",
      "Epoch 13/16\n",
      "200/200 [==============================] - 1s 3ms/step - loss: 0.1854 - accuracy: 0.9597 - val_loss: 0.5330 - val_accuracy: 0.7987\n",
      "Epoch 14/16\n",
      "200/200 [==============================] - 1s 3ms/step - loss: 0.1765 - accuracy: 0.9638 - val_loss: 0.5344 - val_accuracy: 0.7975\n",
      "Epoch 15/16\n",
      "200/200 [==============================] - 1s 3ms/step - loss: 0.1727 - accuracy: 0.9653 - val_loss: 0.5366 - val_accuracy: 0.8012\n",
      "Epoch 16/16\n",
      "200/200 [==============================] - 1s 3ms/step - loss: 0.1633 - accuracy: 0.9675 - val_loss: 0.5399 - val_accuracy: 0.8000\n",
      "250/250 [==============================] - 0s 890us/step - loss: 0.6104 - accuracy: 0.7716\n",
      "Loss:  0.6103527545928955\n",
      "Accuracy:  77 %\n"
     ]
    }
   ],
   "source": [
    "epochs = 16\n",
    "fit_history = model.fit(\n",
    "  train_ds,\n",
    "  validation_data=validation_ds,\n",
    "  epochs=epochs,\n",
    "  # callbacks=callbacks\n",
    "  verbose='auto'\n",
    ")\n",
    "\n",
    "loss, accuracy = model.evaluate(test_ds)\n",
    "print(\"Loss: \", loss)\n",
    "print(\"Accuracy: \", round(accuracy*100), \"%\")"
   ]
  },
  {
   "cell_type": "markdown",
   "metadata": {},
   "source": []
  },
  {
   "cell_type": "code",
   "execution_count": 231,
   "metadata": {},
   "outputs": [
    {
     "name": "stdout",
     "output_type": "stream",
     "text": [
      "dict_keys(['loss', 'accuracy', 'val_loss', 'val_accuracy'])\n"
     ]
    },
    {
     "data": {
      "image/png": "[encoded data removed]",
      "text/plain": [
       "<Figure size 640x480 with 1 Axes>"
      ]
     },
     "metadata": {},
     "output_type": "display_data"
    },
    {
     "data": {
      "image/png": "[encoded data removed]",
      "text/plain": [
       "<Figure size 640x480 with 1 Axes>"
      ]
     },
     "metadata": {},
     "output_type": "display_data"
    }
   ],
   "source": [
    "h_dict = fit_history.history\n",
    "print(h_dict.keys())\n",
    "\n",
    "acc = h_dict['accuracy']\n",
    "\n",
    "epochs = range(1, len(acc) + 1)\n",
    "\n",
    "# \"bo\" is for \"blue dot\"\n",
    "plt.plot(epochs, h_dict['loss'], 'b', label='Training loss')\n",
    "# b is for \"solid blue line\", r is for \"solid red line\"\n",
    "plt.plot(epochs, h_dict['val_loss'], 'r', label='Validation loss')\n",
    "plt.title('Training and validation loss')\n",
    "plt.xlabel('Epochs')\n",
    "plt.ylabel('Loss')\n",
    "plt.legend()\n",
    "\n",
    "plt.show()\n",
    "\n",
    "\n",
    "plt.plot(epochs, acc, 'b', label='Training acc')\n",
    "plt.plot(epochs, h_dict['val_accuracy'], 'r', label='Validation acc')\n",
    "plt.title('Training and validation accuracy')\n",
    "plt.xlabel('Epochs')\n",
    "plt.ylabel('Accuracy')\n",
    "plt.legend(loc='lower right')\n",
    "\n",
    "plt.show()"
   ]
  },
  {
   "cell_type": "code",
   "execution_count": 232,
   "metadata": {},
   "outputs": [
    {
     "name": "stderr",
     "output_type": "stream",
     "text": [
      "/usr/local/lib/python3.11/site-packages/keras/src/engine/training.py:3000: UserWarning: You are saving your model as an HDF5 file via `model.save()`. This file format is considered legacy. We recommend using instead the native Keras format, e.g. `model.save('my_model.keras')`.\n",
      "  saving_api.save_model(\n"
     ]
    }
   ],
   "source": [
    "model.save('./models/model_001.h5')"
   ]
  },
  {
   "cell_type": "code",
   "execution_count": 233,
   "metadata": {},
   "outputs": [],
   "source": [
    "l_model = tf.keras.models.load_model('./models/model_001.h5')\n",
    "worker_model = tf.keras.Sequential([\n",
    "  vectorize_layer,\n",
    "  l_model,\n",
    "])"
   ]
  },
  {
   "cell_type": "markdown",
   "metadata": {},
   "source": []
  },
  {
   "cell_type": "code",
   "execution_count": 234,
   "metadata": {},
   "outputs": [
    {
     "name": "stdout",
     "output_type": "stream",
     "text": [
      "['What is the way of declaring an array in JavaScript?', 'How to update python to the latest version of django?', 'how to make a class in java', 'how to specify the connection string if the excel file name contains white space?using blank string connstring = provider=microsoft.ace.oledb.12.0;data source=d:\\\\data\\\\[proj_resource details 20110118.xlsx];extended properties=excel 12.0;...i mentioned [ ] still it is throwing exception.how can i solve this problem..plz mention the correct path']\n",
      "1/1 [==============================] - 0s 103ms/step\n",
      "['csharp', 'java', 'javascript', 'python']\n",
      "[[ 0.48528638  0.02784687  0.34149098 -0.947502  ]\n",
      " [ 0.17861797  0.5123785  -0.29453865 -0.5567937 ]\n",
      " [ 0.36816552 -0.08899807  0.37222457 -0.65177536]\n",
      " [ 0.5219288   0.59298176 -0.81223726 -0.5659554 ]]\n"
     ]
    },
    {
     "data": {
      "text/plain": [
       "['csharp', 'java', 'javascript', 'java']"
      ]
     },
     "execution_count": 234,
     "metadata": {},
     "output_type": "execute_result"
    }
   ],
   "source": [
    "data = [\n",
    "  'What is the way of declaring an array in JavaScript?',\n",
    "  'How to update python to the latest version of django?',\n",
    "  'how to make a class in java',\n",
    "  \"how to specify the connection string if the excel file name contains white space?using blank string connstring = \"\"provider=microsoft.ace.oledb.12.0;data source=d:\\data\\[proj_resource details 20110118.xlsx];extended properties=excel 12.0\"\";...i mentioned [ ] still it is throwing exception.how can i solve this problem..plz mention the correct path\"\n",
    "]\n",
    "# data = [vectorize_text(t, '') for t in data]\n",
    "print(data)\n",
    "p = worker_model.predict(data)\n",
    "print(classes)\n",
    "print(p)\n",
    "[classes[x] for x in np.argmax(p, axis=1)]\n"
   ]
  },
  {
   "cell_type": "code",
   "execution_count": null,
   "metadata": {},
   "outputs": [],
   "source": []
  },
  {
   "cell_type": "code",
   "execution_count": null,
   "metadata": {},
   "outputs": [],
   "source": []
  }
 ],
 "metadata": {
  "kernelspec": {
   "display_name": "Python 3",
   "language": "python",
   "name": "python3"
  },
  "language_info": {
   "codemirror_mode": {
    "name": "ipython",
    "version": 3
   },
   "file_extension": ".py",
   "mimetype": "text/x-python",
   "name": "python",
   "nbconvert_exporter": "python",
   "pygments_lexer": "ipython3",
   "version": "3.11.5"
  },
  "orig_nbformat": 4
 },
 "nbformat": 4,
 "nbformat_minor": 2
}
